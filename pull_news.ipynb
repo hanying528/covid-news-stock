{
 "cells": [
  {
   "cell_type": "markdown",
   "id": "0ac2217e",
   "metadata": {},
   "source": [
    "https://medium.com/analytics-vidhya/googlenews-api-live-news-from-google-news-using-python-b50272f0a8f0"
   ]
  },
  {
   "cell_type": "code",
   "execution_count": 1,
   "id": "ccbc140d",
   "metadata": {},
   "outputs": [],
   "source": [
    "import pandas as pd"
   ]
  },
  {
   "cell_type": "code",
   "execution_count": 2,
   "id": "17067d79",
   "metadata": {},
   "outputs": [
    {
     "name": "stdout",
     "output_type": "stream",
     "text": [
      "HTTP Error 429: Too Many Requests\n"
     ]
    }
   ],
   "source": [
    "from GoogleNews import GoogleNews\n",
    "\n",
    "googlenews=GoogleNews(start='12/09/2019',end='05/20/2021')\n",
    "googlenews.search('Coronavirus')"
   ]
  },
  {
   "cell_type": "code",
   "execution_count": null,
   "id": "f6080f65",
   "metadata": {},
   "outputs": [],
   "source": [
    "googlenews.getpage()"
   ]
  },
  {
   "cell_type": "code",
   "execution_count": null,
   "id": "bb7378f3",
   "metadata": {},
   "outputs": [],
   "source": [
    "MAX_PAGES = 100\n",
    "dfs = []\n",
    "\n",
    "for i in range(MAX_PAGES):\n",
    "    try:\n",
    "        googlenews.getpage(i)\n",
    "    except TypeError as e:\n",
    "        if \"'NoneType' object is not iterable\" in str(e):\n",
    "            break\n",
    "        else: raise\n",
    "        \n",
    "    result=googlenews.result()\n",
    "    dfs.append(pd.DataFrame(result))\n",
    "    if i % 10 == 0:\n",
    "        print(\"Page:\", i)"
   ]
  },
  {
   "cell_type": "code",
   "execution_count": null,
   "id": "133d76e6",
   "metadata": {},
   "outputs": [],
   "source": [
    "df_all = pd.concat(dfs)\n",
    "df_all.shape"
   ]
  }
 ],
 "metadata": {
  "kernelspec": {
   "display_name": "Python 3",
   "language": "python",
   "name": "python3"
  },
  "language_info": {
   "codemirror_mode": {
    "name": "ipython",
    "version": 3
   },
   "file_extension": ".py",
   "mimetype": "text/x-python",
   "name": "python",
   "nbconvert_exporter": "python",
   "pygments_lexer": "ipython3",
   "version": "3.8.10"
  }
 },
 "nbformat": 4,
 "nbformat_minor": 5
}
