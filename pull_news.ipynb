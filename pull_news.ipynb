{
 "cells": [
  {
   "cell_type": "markdown",
   "id": "0ac2217e",
   "metadata": {},
   "source": [
    "https://medium.com/analytics-vidhya/googlenews-api-live-news-from-google-news-using-python-b50272f0a8f0\n",
    "\n",
    "```bsah\n",
    "!pip install GoogleNews\n",
    "!pip install newspaper3k\n",
    "!pip install scrapy\n",
    "```"
   ]
  },
  {
   "cell_type": "code",
   "execution_count": 1,
   "id": "ccbc140d",
   "metadata": {},
   "outputs": [],
   "source": [
    "import pandas as pd"
   ]
  },
  {
   "cell_type": "code",
   "execution_count": 2,
   "id": "17067d79",
   "metadata": {},
   "outputs": [],
   "source": [
    "from GoogleNews import GoogleNews\n",
    "\n",
    "googlenews=GoogleNews(start='12/09/2019',end='05/20/2021')\n",
    "googlenews.search('COVID-19')"
   ]
  },
  {
   "cell_type": "code",
   "execution_count": 3,
   "id": "bb7378f3",
   "metadata": {},
   "outputs": [
    {
     "name": "stdout",
     "output_type": "stream",
     "text": [
      "Page: 0\n",
      "Page: 5\n",
      "Page: 10\n",
      "Page: 15\n",
      "Page: 20\n",
      "Page: 25\n",
      "Page: 30\n",
      "'NoneType' object is not iterable\n",
      "No more result found after page 34.\n"
     ]
    }
   ],
   "source": [
    "MAX_PAGES = 50\n",
    "dfs = []\n",
    "\n",
    "for i in range(MAX_PAGES):\n",
    "    result=googlenews.page_at(i)\n",
    "    if len(result) == 0:\n",
    "        print(f\"No more result found after page {i-1}.\")\n",
    "        break\n",
    "    dfs.append(pd.DataFrame(result))\n",
    "    if i % 5 == 0:\n",
    "        print(\"Page:\", i)"
   ]
  },
  {
   "cell_type": "code",
   "execution_count": 4,
   "id": "133d76e6",
   "metadata": {},
   "outputs": [
    {
     "data": {
      "text/plain": [
       "(348, 8)"
      ]
     },
     "execution_count": 4,
     "metadata": {},
     "output_type": "execute_result"
    }
   ],
   "source": [
    "df_all = pd.concat(dfs).reset_index()\n",
    "df_all.shape"
   ]
  },
  {
   "cell_type": "code",
   "execution_count": 5,
   "id": "62879beb",
   "metadata": {},
   "outputs": [
    {
     "data": {
      "text/plain": [
       "Timestamp('2020-01-22 00:00:00')"
      ]
     },
     "execution_count": 5,
     "metadata": {},
     "output_type": "execute_result"
    }
   ],
   "source": [
    "df_all.datetime.min()"
   ]
  },
  {
   "cell_type": "code",
   "execution_count": 6,
   "id": "d8dbce4f",
   "metadata": {},
   "outputs": [
    {
     "data": {
      "text/plain": [
       "Timestamp('2021-05-22 23:25:42.843719')"
      ]
     },
     "execution_count": 6,
     "metadata": {},
     "output_type": "execute_result"
    }
   ],
   "source": [
    "df_all.datetime.max()"
   ]
  },
  {
   "cell_type": "code",
   "execution_count": 7,
   "id": "c2beb371",
   "metadata": {},
   "outputs": [
    {
     "data": {
      "text/html": [
       "<div>\n",
       "<style scoped>\n",
       "    .dataframe tbody tr th:only-of-type {\n",
       "        vertical-align: middle;\n",
       "    }\n",
       "\n",
       "    .dataframe tbody tr th {\n",
       "        vertical-align: top;\n",
       "    }\n",
       "\n",
       "    .dataframe thead th {\n",
       "        text-align: right;\n",
       "    }\n",
       "</style>\n",
       "<table border=\"1\" class=\"dataframe\">\n",
       "  <thead>\n",
       "    <tr style=\"text-align: right;\">\n",
       "      <th></th>\n",
       "      <th>index</th>\n",
       "      <th>title</th>\n",
       "      <th>media</th>\n",
       "      <th>date</th>\n",
       "      <th>datetime</th>\n",
       "      <th>desc</th>\n",
       "      <th>link</th>\n",
       "      <th>img</th>\n",
       "    </tr>\n",
       "  </thead>\n",
       "  <tbody>\n",
       "    <tr>\n",
       "      <th>0</th>\n",
       "      <td>0</td>\n",
       "      <td>FDA and CDC Lift Recommended Pause on Johnson ...</td>\n",
       "      <td></td>\n",
       "      <td>1 month ago</td>\n",
       "      <td>2021-04-29 23:25:25.687568</td>\n",
       "      <td>Use of the Janssen COVID-19 Vaccine should be ...</td>\n",
       "      <td>https://www.fda.gov/news-events/press-announce...</td>\n",
       "      <td>data:image/gif;base64,R0lGODlhAQABAIAAAP//////...</td>\n",
       "    </tr>\n",
       "    <tr>\n",
       "      <th>1</th>\n",
       "      <td>1</td>\n",
       "      <td>Stephen Karanja: Kenyan anti-vaccine doctor di...</td>\n",
       "      <td>BBC</td>\n",
       "      <td>1 month ago</td>\n",
       "      <td>2021-04-29 23:25:25.690002</td>\n",
       "      <td>A Kenyan doctor who became a vociferous oppone...</td>\n",
       "      <td>https://www.bbc.com/news/world-africa-56922517</td>\n",
       "      <td>data:image/gif;base64,R0lGODlhAQABAIAAAP//////...</td>\n",
       "    </tr>\n",
       "    <tr>\n",
       "      <th>2</th>\n",
       "      <td>2</td>\n",
       "      <td>Information on the Outbreak of Coronavirus Dis...</td>\n",
       "      <td></td>\n",
       "      <td>Feb 13, 2020</td>\n",
       "      <td>2020-02-13 00:00:00.000000</td>\n",
       "      <td>To learn about all aspects of the Massachusett...</td>\n",
       "      <td>https://www.mass.gov/resource/information-on-t...</td>\n",
       "      <td>data:image/gif;base64,R0lGODlhAQABAIAAAP//////...</td>\n",
       "    </tr>\n",
       "    <tr>\n",
       "      <th>3</th>\n",
       "      <td>3</td>\n",
       "      <td>Information on the Outbreak of 2019 Novel Coro...</td>\n",
       "      <td></td>\n",
       "      <td>Mar 3, 2020</td>\n",
       "      <td>2020-03-03 00:00:00.000000</td>\n",
       "      <td>On March 2, DPH announced the first presumptiv...</td>\n",
       "      <td>https://www.mass.gov/2019Coronavirus</td>\n",
       "      <td>data:image/gif;base64,R0lGODlhAQABAIAAAP//////...</td>\n",
       "    </tr>\n",
       "    <tr>\n",
       "      <th>4</th>\n",
       "      <td>4</td>\n",
       "      <td>Blueprint for a Safer Economy - Coronavirus CO...</td>\n",
       "      <td>COVID-19.ca.gov</td>\n",
       "      <td>Jun 15, 2020</td>\n",
       "      <td>2020-06-15 00:00:00.000000</td>\n",
       "      <td>California's blueprint for reopening has crite...</td>\n",
       "      <td>https://covid19.ca.gov/safer-economy/</td>\n",
       "      <td>data:image/gif;base64,R0lGODlhAQABAIAAAP//////...</td>\n",
       "    </tr>\n",
       "  </tbody>\n",
       "</table>\n",
       "</div>"
      ],
      "text/plain": [
       "   index                                              title            media  \\\n",
       "0      0  FDA and CDC Lift Recommended Pause on Johnson ...                    \n",
       "1      1  Stephen Karanja: Kenyan anti-vaccine doctor di...              BBC   \n",
       "2      2  Information on the Outbreak of Coronavirus Dis...                    \n",
       "3      3  Information on the Outbreak of 2019 Novel Coro...                    \n",
       "4      4  Blueprint for a Safer Economy - Coronavirus CO...  COVID-19.ca.gov   \n",
       "\n",
       "           date                   datetime  \\\n",
       "0   1 month ago 2021-04-29 23:25:25.687568   \n",
       "1   1 month ago 2021-04-29 23:25:25.690002   \n",
       "2  Feb 13, 2020 2020-02-13 00:00:00.000000   \n",
       "3   Mar 3, 2020 2020-03-03 00:00:00.000000   \n",
       "4  Jun 15, 2020 2020-06-15 00:00:00.000000   \n",
       "\n",
       "                                                desc  \\\n",
       "0  Use of the Janssen COVID-19 Vaccine should be ...   \n",
       "1  A Kenyan doctor who became a vociferous oppone...   \n",
       "2  To learn about all aspects of the Massachusett...   \n",
       "3  On March 2, DPH announced the first presumptiv...   \n",
       "4  California's blueprint for reopening has crite...   \n",
       "\n",
       "                                                link  \\\n",
       "0  https://www.fda.gov/news-events/press-announce...   \n",
       "1     https://www.bbc.com/news/world-africa-56922517   \n",
       "2  https://www.mass.gov/resource/information-on-t...   \n",
       "3               https://www.mass.gov/2019Coronavirus   \n",
       "4              https://covid19.ca.gov/safer-economy/   \n",
       "\n",
       "                                                 img  \n",
       "0  data:image/gif;base64,R0lGODlhAQABAIAAAP//////...  \n",
       "1  data:image/gif;base64,R0lGODlhAQABAIAAAP//////...  \n",
       "2  data:image/gif;base64,R0lGODlhAQABAIAAAP//////...  \n",
       "3  data:image/gif;base64,R0lGODlhAQABAIAAAP//////...  \n",
       "4  data:image/gif;base64,R0lGODlhAQABAIAAAP//////...  "
      ]
     },
     "execution_count": 7,
     "metadata": {},
     "output_type": "execute_result"
    }
   ],
   "source": [
    "df_all.head()"
   ]
  },
  {
   "cell_type": "code",
   "execution_count": 9,
   "id": "82c85bc9",
   "metadata": {},
   "outputs": [
    {
     "data": {
      "text/plain": [
       "media\n",
       "                                                          100\n",
       "ABC News                                                    1\n",
       "American Farm Bureau Federation                             1\n",
       "American Journal of Managed Care                            1\n",
       "American Veterinary Medical Association                     1\n",
       "                                                         ... \n",
       "Washoe County                                               1\n",
       "WebMD                                                       3\n",
       "West Virginia Department of Health and Human Resources      3\n",
       "World Bank Group                                            1\n",
       "Yale News                                                   1\n",
       "Length: 81, dtype: int64"
      ]
     },
     "execution_count": 9,
     "metadata": {},
     "output_type": "execute_result"
    }
   ],
   "source": [
    "df_all.groupby('media').size()"
   ]
  },
  {
   "cell_type": "code",
   "execution_count": 67,
   "id": "fe62aaf2",
   "metadata": {},
   "outputs": [
    {
     "name": "stdout",
     "output_type": "stream",
     "text": [
      "Scrapy 2.5.0 - no active project\r\n",
      "\r\n",
      "Unknown command: crawl\r\n",
      "\r\n",
      "Use \"scrapy\" to see available commands\r\n"
     ]
    }
   ],
   "source": [
    "!scrapy crawl GoogleNews"
   ]
  },
  {
   "cell_type": "code",
   "execution_count": 66,
   "id": "cb6137e4",
   "metadata": {},
   "outputs": [
    {
     "data": {
      "text/plain": [
       "<generator object NewsSpider.start_requests at 0x7f898475d900>"
      ]
     },
     "execution_count": 66,
     "metadata": {},
     "output_type": "execute_result"
    }
   ],
   "source": [
    "ns = NewsSpider()\n",
    "ns.start_requests('COVID-19')"
   ]
  },
  {
   "cell_type": "code",
   "execution_count": null,
   "id": "0b7b05c6",
   "metadata": {},
   "outputs": [],
   "source": []
  },
  {
   "cell_type": "markdown",
   "id": "4f7c0040",
   "metadata": {},
   "source": [
    "### Directly search with `requests` "
   ]
  },
  {
   "cell_type": "code",
   "execution_count": 69,
   "id": "2900d2c8",
   "metadata": {},
   "outputs": [],
   "source": [
    "import requests\n",
    "from bs4 import BeautifulSoup\n",
    "\n",
    "query = 'COVID-19'\n",
    "url = f\"https://www.google.com/search?q={query}&tbm=nws&lr=lang_en&hl=en&sort=date\"\n",
    "res = requests.get(url)\n",
    "soup = BeautifulSoup(res.text, \"html.parser\")"
   ]
  },
  {
   "cell_type": "code",
   "execution_count": 77,
   "id": "6a3fc034",
   "metadata": {},
   "outputs": [
    {
     "data": {
      "text/plain": [
       "'/search?q=COVID-19&lr=lang_en&hl=en&ie=UTF-8&tbs=lr:lang_1en&tbm=nws&ei=s7uzYJCUHKyv5NoPrZOFoAI&start=10&sa=N'"
      ]
     },
     "execution_count": 77,
     "metadata": {},
     "output_type": "execute_result"
    }
   ],
   "source": [
    "soup.findAll(\"a\", {\"aria-label\": \"Next page\"})[0]['href']"
   ]
  },
  {
   "cell_type": "code",
   "execution_count": 82,
   "id": "17e55033",
   "metadata": {},
   "outputs": [],
   "source": [
    "url = \"https://search.api.cnn.io/content?q=covid-19\"\n",
    "res = requests.get(url)\n",
    "soup = BeautifulSoup(res.text, \"html.parser\")"
   ]
  },
  {
   "cell_type": "code",
   "execution_count": 89,
   "id": "f89c32bc",
   "metadata": {},
   "outputs": [
    {
     "data": {
      "text/plain": [
       "\"America's Amtrak moment could finally be here\""
      ]
     },
     "execution_count": 89,
     "metadata": {},
     "output_type": "execute_result"
    }
   ],
   "source": [
    "res.json()['result'][0]['headline']"
   ]
  },
  {
   "cell_type": "code",
   "execution_count": 61,
   "id": "65b460c7",
   "metadata": {},
   "outputs": [
    {
     "data": {
      "text/plain": [
       "['Moderna Warns New Waves of Covid-19 Are Coming',\n",
       " 'We need to know how Covid-19 emerged so we can stop it happening again',\n",
       " 'Vietnam detects hybrid of Indian and UK COVID-19 variants',\n",
       " 'Over 100 staff sue Houston Methodist over COVID-19 vaccine requirement | TheHill',\n",
       " 'Bars reopening for the first time since the COVID-19 pandemic began',\n",
       " 'COVID-19 cases and deaths are down but rate of infection is the same as it was in December for unvaccinated',\n",
       " 'Worried about COVID-19, Navajo Nation ignores CDC, keeps masks and social distancing',\n",
       " \"Opinion | Covid-19's Impact on America Has Just Begun\",\n",
       " 'Montgomery County has averaged 35 new cases of COVID-19 a day in May',\n",
       " 'This COVID-19 vaccine shot comes with a free beer',\n",
       " 'Covid-19 Cases and Hospitalizations Rise in U.K. as Variant From India Takes Hold',\n",
       " 'OREGON Oregon reports 1 more COVID-19 related death, 376 new cases KTVZ',\n",
       " 'Coronavirus in DC, Maryland, Virginia: What to Know on May 29',\n",
       " 'Coronavirus daily news updates, May 29: What to know today about COVID-19 in the Seattle area, Washington state and the world',\n",
       " 'The future of COVID-19 immunity looks good']"
      ]
     },
     "execution_count": 61,
     "metadata": {},
     "output_type": "execute_result"
    }
   ],
   "source": [
    "summaries = []\n",
    "divs = soup.findAll(\"div\", {\"class\": \"BNeawe vvjwJb AP7Wnd\"})\n",
    "for div in divs:\n",
    "    summaries.append(div.text)\n",
    "summaries"
   ]
  },
  {
   "cell_type": "code",
   "execution_count": 37,
   "id": "f6df8429",
   "metadata": {},
   "outputs": [],
   "source": [
    "import re\n",
    "from bs4 import BeautifulSoup"
   ]
  },
  {
   "cell_type": "code",
   "execution_count": 40,
   "id": "d171eb54",
   "metadata": {},
   "outputs": [],
   "source": [
    "soup = BeautifulSoup(result.text)\n",
    "for title in soup.find_all('span', class_=\"titletext\"):\n",
    "    print(title.text)"
   ]
  },
  {
   "cell_type": "code",
   "execution_count": null,
   "id": "ee902d23",
   "metadata": {},
   "outputs": [],
   "source": []
  }
 ],
 "metadata": {
  "kernelspec": {
   "display_name": "Python 3",
   "language": "python",
   "name": "python3"
  },
  "language_info": {
   "codemirror_mode": {
    "name": "ipython",
    "version": 3
   },
   "file_extension": ".py",
   "mimetype": "text/x-python",
   "name": "python",
   "nbconvert_exporter": "python",
   "pygments_lexer": "ipython3",
   "version": "3.8.10"
  }
 },
 "nbformat": 4,
 "nbformat_minor": 5
}
